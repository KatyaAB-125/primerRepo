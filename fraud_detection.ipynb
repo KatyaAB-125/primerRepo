{
  "nbformat": 4,
  "nbformat_minor": 0,
  "metadata": {
    "kernelspec": {
      "display_name": "Python 3",
      "language": "python",
      "name": "python3"
    },
    "language_info": {
      "codemirror_mode": {
        "name": "ipython",
        "version": 3
      },
      "file_extension": ".py",
      "mimetype": "text/x-python",
      "name": "python",
      "nbconvert_exporter": "python",
      "pygments_lexer": "ipython3",
      "version": "3.8.5"
    },
    "colab": {
      "name": "fraud_detection.ipynb",
      "provenance": [],
      "collapsed_sections": [],
      "toc_visible": true,
      "include_colab_link": true
    }
  },
  "cells": [
    {
      "cell_type": "markdown",
      "metadata": {
        "id": "view-in-github",
        "colab_type": "text"
      },
      "source": [
        "<a href=\"https://colab.research.google.com/github/KatyaAB-125/primerRepo/blob/main/fraud_detection.ipynb\" target=\"_parent\"><img src=\"https://colab.research.google.com/assets/colab-badge.svg\" alt=\"Open In Colab\"/></a>"
      ]
    },
    {
      "cell_type": "markdown",
      "metadata": {
        "id": "Z8dV5Bdo1KIB"
      },
      "source": [
        "# Detección de fraude"
      ]
    },
    {
      "cell_type": "code",
      "source": [
        "from google.colab import files\n",
        "\n",
        "uploaded = files.upload()\n",
        "\n",
        "for fn in uploaded.keys():\n",
        "  print('User uploaded file \"{name}\" with length {length} bytes'.format(\n",
        "      name=fn, length=len(uploaded[fn])))"
      ],
      "metadata": {
        "colab": {
          "resources": {
            "http://localhost:8080/nbextensions/google.colab/files.js": {
              "data": "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",
              "ok": true,
              "headers": [
                [
                  "content-type",
                  "application/javascript"
                ]
              ],
              "status": 200,
              "status_text": ""
            }
          },
          "base_uri": "https://localhost:8080/",
          "height": 90
        },
        "id": "y6EqRFTYaTMk",
        "outputId": "446714f0-1cdf-421f-c071-6f9eb163ac20"
      },
      "execution_count": 3,
      "outputs": [
        {
          "output_type": "display_data",
          "data": {
            "text/plain": [
              "<IPython.core.display.HTML object>"
            ],
            "text/html": [
              "\n",
              "     <input type=\"file\" id=\"files-2c908350-e4e3-4299-9f4d-8e45ef7828a3\" name=\"files[]\" multiple disabled\n",
              "        style=\"border:none\" />\n",
              "     <output id=\"result-2c908350-e4e3-4299-9f4d-8e45ef7828a3\">\n",
              "      Upload widget is only available when the cell has been executed in the\n",
              "      current browser session. Please rerun this cell to enable.\n",
              "      </output>\n",
              "      <script src=\"/nbextensions/google.colab/files.js\"></script> "
            ]
          },
          "metadata": {}
        },
        {
          "output_type": "stream",
          "name": "stdout",
          "text": [
            "Saving creditcard.csv to creditcard.csv\n",
            "User uploaded file \"creditcard.csv\" with length 150828752 bytes\n"
          ]
        }
      ]
    },
    {
      "cell_type": "code",
      "metadata": {
        "id": "0zXZ-yMk1KIH"
      },
      "source": [
        "import matplotlib.pyplot as plt\n",
        "import numpy as np\n",
        "import pandas as pd\n",
        "import seaborn as sb\n",
        "\n",
        "from scipy.stats import norm\n",
        "\n",
        "from sklearn import linear_model\n",
        "from sklearn.model_selection import train_test_split\n",
        "from sklearn.preprocessing import MinMaxScaler\n",
        "\n",
        "from sklearn.tree import DecisionTreeClassifier\n",
        "from sklearn.ensemble import RandomForestClassifier\n",
        "\n",
        "from sklearn.metrics import confusion_matrix, plot_confusion_matrix, classification_report, roc_auc_score\n",
        "from xgboost import XGBClassifier"
      ],
      "execution_count": 1,
      "outputs": []
    },
    {
      "cell_type": "code",
      "metadata": {
        "colab": {
          "base_uri": "https://localhost:8080/",
          "height": 488
        },
        "id": "9KnWWSJr1KII",
        "outputId": "0b6727e7-2a8b-4953-acf9-358cbbde99b8"
      },
      "source": [
        "inputData = pd.read_csv('creditcard.csv')\n",
        "inputData"
      ],
      "execution_count": 4,
      "outputs": [
        {
          "output_type": "execute_result",
          "data": {
            "text/plain": [
              "            Time         V1         V2        V3        V4        V5  \\\n",
              "0            0.0  -1.359807  -0.072781  2.536347  1.378155 -0.338321   \n",
              "1            0.0   1.191857   0.266151  0.166480  0.448154  0.060018   \n",
              "2            1.0  -1.358354  -1.340163  1.773209  0.379780 -0.503198   \n",
              "3            1.0  -0.966272  -0.185226  1.792993 -0.863291 -0.010309   \n",
              "4            2.0  -1.158233   0.877737  1.548718  0.403034 -0.407193   \n",
              "...          ...        ...        ...       ...       ...       ...   \n",
              "284802  172786.0 -11.881118  10.071785 -9.834783 -2.066656 -5.364473   \n",
              "284803  172787.0  -0.732789  -0.055080  2.035030 -0.738589  0.868229   \n",
              "284804  172788.0   1.919565  -0.301254 -3.249640 -0.557828  2.630515   \n",
              "284805  172788.0  -0.240440   0.530483  0.702510  0.689799 -0.377961   \n",
              "284806  172792.0  -0.533413  -0.189733  0.703337 -0.506271 -0.012546   \n",
              "\n",
              "              V6        V7        V8        V9  ...       V21       V22  \\\n",
              "0       0.462388  0.239599  0.098698  0.363787  ... -0.018307  0.277838   \n",
              "1      -0.082361 -0.078803  0.085102 -0.255425  ... -0.225775 -0.638672   \n",
              "2       1.800499  0.791461  0.247676 -1.514654  ...  0.247998  0.771679   \n",
              "3       1.247203  0.237609  0.377436 -1.387024  ... -0.108300  0.005274   \n",
              "4       0.095921  0.592941 -0.270533  0.817739  ... -0.009431  0.798278   \n",
              "...          ...       ...       ...       ...  ...       ...       ...   \n",
              "284802 -2.606837 -4.918215  7.305334  1.914428  ...  0.213454  0.111864   \n",
              "284803  1.058415  0.024330  0.294869  0.584800  ...  0.214205  0.924384   \n",
              "284804  3.031260 -0.296827  0.708417  0.432454  ...  0.232045  0.578229   \n",
              "284805  0.623708 -0.686180  0.679145  0.392087  ...  0.265245  0.800049   \n",
              "284806 -0.649617  1.577006 -0.414650  0.486180  ...  0.261057  0.643078   \n",
              "\n",
              "             V23       V24       V25       V26       V27       V28  Amount  \\\n",
              "0      -0.110474  0.066928  0.128539 -0.189115  0.133558 -0.021053  149.62   \n",
              "1       0.101288 -0.339846  0.167170  0.125895 -0.008983  0.014724    2.69   \n",
              "2       0.909412 -0.689281 -0.327642 -0.139097 -0.055353 -0.059752  378.66   \n",
              "3      -0.190321 -1.175575  0.647376 -0.221929  0.062723  0.061458  123.50   \n",
              "4      -0.137458  0.141267 -0.206010  0.502292  0.219422  0.215153   69.99   \n",
              "...          ...       ...       ...       ...       ...       ...     ...   \n",
              "284802  1.014480 -0.509348  1.436807  0.250034  0.943651  0.823731    0.77   \n",
              "284803  0.012463 -1.016226 -0.606624 -0.395255  0.068472 -0.053527   24.79   \n",
              "284804 -0.037501  0.640134  0.265745 -0.087371  0.004455 -0.026561   67.88   \n",
              "284805 -0.163298  0.123205 -0.569159  0.546668  0.108821  0.104533   10.00   \n",
              "284806  0.376777  0.008797 -0.473649 -0.818267 -0.002415  0.013649  217.00   \n",
              "\n",
              "        Class  \n",
              "0           0  \n",
              "1           0  \n",
              "2           0  \n",
              "3           0  \n",
              "4           0  \n",
              "...       ...  \n",
              "284802      0  \n",
              "284803      0  \n",
              "284804      0  \n",
              "284805      0  \n",
              "284806      0  \n",
              "\n",
              "[284807 rows x 31 columns]"
            ],
            "text/html": [
              "\n",
              "  <div id=\"df-296b8bfc-0883-447e-89ed-e8bf2c29283e\">\n",
              "    <div class=\"colab-df-container\">\n",
              "      <div>\n",
              "<style scoped>\n",
              "    .dataframe tbody tr th:only-of-type {\n",
              "        vertical-align: middle;\n",
              "    }\n",
              "\n",
              "    .dataframe tbody tr th {\n",
              "        vertical-align: top;\n",
              "    }\n",
              "\n",
              "    .dataframe thead th {\n",
              "        text-align: right;\n",
              "    }\n",
              "</style>\n",
              "<table border=\"1\" class=\"dataframe\">\n",
              "  <thead>\n",
              "    <tr style=\"text-align: right;\">\n",
              "      <th></th>\n",
              "      <th>Time</th>\n",
              "      <th>V1</th>\n",
              "      <th>V2</th>\n",
              "      <th>V3</th>\n",
              "      <th>V4</th>\n",
              "      <th>V5</th>\n",
              "      <th>V6</th>\n",
              "      <th>V7</th>\n",
              "      <th>V8</th>\n",
              "      <th>V9</th>\n",
              "      <th>...</th>\n",
              "      <th>V21</th>\n",
              "      <th>V22</th>\n",
              "      <th>V23</th>\n",
              "      <th>V24</th>\n",
              "      <th>V25</th>\n",
              "      <th>V26</th>\n",
              "      <th>V27</th>\n",
              "      <th>V28</th>\n",
              "      <th>Amount</th>\n",
              "      <th>Class</th>\n",
              "    </tr>\n",
              "  </thead>\n",
              "  <tbody>\n",
              "    <tr>\n",
              "      <th>0</th>\n",
              "      <td>0.0</td>\n",
              "      <td>-1.359807</td>\n",
              "      <td>-0.072781</td>\n",
              "      <td>2.536347</td>\n",
              "      <td>1.378155</td>\n",
              "      <td>-0.338321</td>\n",
              "      <td>0.462388</td>\n",
              "      <td>0.239599</td>\n",
              "      <td>0.098698</td>\n",
              "      <td>0.363787</td>\n",
              "      <td>...</td>\n",
              "      <td>-0.018307</td>\n",
              "      <td>0.277838</td>\n",
              "      <td>-0.110474</td>\n",
              "      <td>0.066928</td>\n",
              "      <td>0.128539</td>\n",
              "      <td>-0.189115</td>\n",
              "      <td>0.133558</td>\n",
              "      <td>-0.021053</td>\n",
              "      <td>149.62</td>\n",
              "      <td>0</td>\n",
              "    </tr>\n",
              "    <tr>\n",
              "      <th>1</th>\n",
              "      <td>0.0</td>\n",
              "      <td>1.191857</td>\n",
              "      <td>0.266151</td>\n",
              "      <td>0.166480</td>\n",
              "      <td>0.448154</td>\n",
              "      <td>0.060018</td>\n",
              "      <td>-0.082361</td>\n",
              "      <td>-0.078803</td>\n",
              "      <td>0.085102</td>\n",
              "      <td>-0.255425</td>\n",
              "      <td>...</td>\n",
              "      <td>-0.225775</td>\n",
              "      <td>-0.638672</td>\n",
              "      <td>0.101288</td>\n",
              "      <td>-0.339846</td>\n",
              "      <td>0.167170</td>\n",
              "      <td>0.125895</td>\n",
              "      <td>-0.008983</td>\n",
              "      <td>0.014724</td>\n",
              "      <td>2.69</td>\n",
              "      <td>0</td>\n",
              "    </tr>\n",
              "    <tr>\n",
              "      <th>2</th>\n",
              "      <td>1.0</td>\n",
              "      <td>-1.358354</td>\n",
              "      <td>-1.340163</td>\n",
              "      <td>1.773209</td>\n",
              "      <td>0.379780</td>\n",
              "      <td>-0.503198</td>\n",
              "      <td>1.800499</td>\n",
              "      <td>0.791461</td>\n",
              "      <td>0.247676</td>\n",
              "      <td>-1.514654</td>\n",
              "      <td>...</td>\n",
              "      <td>0.247998</td>\n",
              "      <td>0.771679</td>\n",
              "      <td>0.909412</td>\n",
              "      <td>-0.689281</td>\n",
              "      <td>-0.327642</td>\n",
              "      <td>-0.139097</td>\n",
              "      <td>-0.055353</td>\n",
              "      <td>-0.059752</td>\n",
              "      <td>378.66</td>\n",
              "      <td>0</td>\n",
              "    </tr>\n",
              "    <tr>\n",
              "      <th>3</th>\n",
              "      <td>1.0</td>\n",
              "      <td>-0.966272</td>\n",
              "      <td>-0.185226</td>\n",
              "      <td>1.792993</td>\n",
              "      <td>-0.863291</td>\n",
              "      <td>-0.010309</td>\n",
              "      <td>1.247203</td>\n",
              "      <td>0.237609</td>\n",
              "      <td>0.377436</td>\n",
              "      <td>-1.387024</td>\n",
              "      <td>...</td>\n",
              "      <td>-0.108300</td>\n",
              "      <td>0.005274</td>\n",
              "      <td>-0.190321</td>\n",
              "      <td>-1.175575</td>\n",
              "      <td>0.647376</td>\n",
              "      <td>-0.221929</td>\n",
              "      <td>0.062723</td>\n",
              "      <td>0.061458</td>\n",
              "      <td>123.50</td>\n",
              "      <td>0</td>\n",
              "    </tr>\n",
              "    <tr>\n",
              "      <th>4</th>\n",
              "      <td>2.0</td>\n",
              "      <td>-1.158233</td>\n",
              "      <td>0.877737</td>\n",
              "      <td>1.548718</td>\n",
              "      <td>0.403034</td>\n",
              "      <td>-0.407193</td>\n",
              "      <td>0.095921</td>\n",
              "      <td>0.592941</td>\n",
              "      <td>-0.270533</td>\n",
              "      <td>0.817739</td>\n",
              "      <td>...</td>\n",
              "      <td>-0.009431</td>\n",
              "      <td>0.798278</td>\n",
              "      <td>-0.137458</td>\n",
              "      <td>0.141267</td>\n",
              "      <td>-0.206010</td>\n",
              "      <td>0.502292</td>\n",
              "      <td>0.219422</td>\n",
              "      <td>0.215153</td>\n",
              "      <td>69.99</td>\n",
              "      <td>0</td>\n",
              "    </tr>\n",
              "    <tr>\n",
              "      <th>...</th>\n",
              "      <td>...</td>\n",
              "      <td>...</td>\n",
              "      <td>...</td>\n",
              "      <td>...</td>\n",
              "      <td>...</td>\n",
              "      <td>...</td>\n",
              "      <td>...</td>\n",
              "      <td>...</td>\n",
              "      <td>...</td>\n",
              "      <td>...</td>\n",
              "      <td>...</td>\n",
              "      <td>...</td>\n",
              "      <td>...</td>\n",
              "      <td>...</td>\n",
              "      <td>...</td>\n",
              "      <td>...</td>\n",
              "      <td>...</td>\n",
              "      <td>...</td>\n",
              "      <td>...</td>\n",
              "      <td>...</td>\n",
              "      <td>...</td>\n",
              "    </tr>\n",
              "    <tr>\n",
              "      <th>284802</th>\n",
              "      <td>172786.0</td>\n",
              "      <td>-11.881118</td>\n",
              "      <td>10.071785</td>\n",
              "      <td>-9.834783</td>\n",
              "      <td>-2.066656</td>\n",
              "      <td>-5.364473</td>\n",
              "      <td>-2.606837</td>\n",
              "      <td>-4.918215</td>\n",
              "      <td>7.305334</td>\n",
              "      <td>1.914428</td>\n",
              "      <td>...</td>\n",
              "      <td>0.213454</td>\n",
              "      <td>0.111864</td>\n",
              "      <td>1.014480</td>\n",
              "      <td>-0.509348</td>\n",
              "      <td>1.436807</td>\n",
              "      <td>0.250034</td>\n",
              "      <td>0.943651</td>\n",
              "      <td>0.823731</td>\n",
              "      <td>0.77</td>\n",
              "      <td>0</td>\n",
              "    </tr>\n",
              "    <tr>\n",
              "      <th>284803</th>\n",
              "      <td>172787.0</td>\n",
              "      <td>-0.732789</td>\n",
              "      <td>-0.055080</td>\n",
              "      <td>2.035030</td>\n",
              "      <td>-0.738589</td>\n",
              "      <td>0.868229</td>\n",
              "      <td>1.058415</td>\n",
              "      <td>0.024330</td>\n",
              "      <td>0.294869</td>\n",
              "      <td>0.584800</td>\n",
              "      <td>...</td>\n",
              "      <td>0.214205</td>\n",
              "      <td>0.924384</td>\n",
              "      <td>0.012463</td>\n",
              "      <td>-1.016226</td>\n",
              "      <td>-0.606624</td>\n",
              "      <td>-0.395255</td>\n",
              "      <td>0.068472</td>\n",
              "      <td>-0.053527</td>\n",
              "      <td>24.79</td>\n",
              "      <td>0</td>\n",
              "    </tr>\n",
              "    <tr>\n",
              "      <th>284804</th>\n",
              "      <td>172788.0</td>\n",
              "      <td>1.919565</td>\n",
              "      <td>-0.301254</td>\n",
              "      <td>-3.249640</td>\n",
              "      <td>-0.557828</td>\n",
              "      <td>2.630515</td>\n",
              "      <td>3.031260</td>\n",
              "      <td>-0.296827</td>\n",
              "      <td>0.708417</td>\n",
              "      <td>0.432454</td>\n",
              "      <td>...</td>\n",
              "      <td>0.232045</td>\n",
              "      <td>0.578229</td>\n",
              "      <td>-0.037501</td>\n",
              "      <td>0.640134</td>\n",
              "      <td>0.265745</td>\n",
              "      <td>-0.087371</td>\n",
              "      <td>0.004455</td>\n",
              "      <td>-0.026561</td>\n",
              "      <td>67.88</td>\n",
              "      <td>0</td>\n",
              "    </tr>\n",
              "    <tr>\n",
              "      <th>284805</th>\n",
              "      <td>172788.0</td>\n",
              "      <td>-0.240440</td>\n",
              "      <td>0.530483</td>\n",
              "      <td>0.702510</td>\n",
              "      <td>0.689799</td>\n",
              "      <td>-0.377961</td>\n",
              "      <td>0.623708</td>\n",
              "      <td>-0.686180</td>\n",
              "      <td>0.679145</td>\n",
              "      <td>0.392087</td>\n",
              "      <td>...</td>\n",
              "      <td>0.265245</td>\n",
              "      <td>0.800049</td>\n",
              "      <td>-0.163298</td>\n",
              "      <td>0.123205</td>\n",
              "      <td>-0.569159</td>\n",
              "      <td>0.546668</td>\n",
              "      <td>0.108821</td>\n",
              "      <td>0.104533</td>\n",
              "      <td>10.00</td>\n",
              "      <td>0</td>\n",
              "    </tr>\n",
              "    <tr>\n",
              "      <th>284806</th>\n",
              "      <td>172792.0</td>\n",
              "      <td>-0.533413</td>\n",
              "      <td>-0.189733</td>\n",
              "      <td>0.703337</td>\n",
              "      <td>-0.506271</td>\n",
              "      <td>-0.012546</td>\n",
              "      <td>-0.649617</td>\n",
              "      <td>1.577006</td>\n",
              "      <td>-0.414650</td>\n",
              "      <td>0.486180</td>\n",
              "      <td>...</td>\n",
              "      <td>0.261057</td>\n",
              "      <td>0.643078</td>\n",
              "      <td>0.376777</td>\n",
              "      <td>0.008797</td>\n",
              "      <td>-0.473649</td>\n",
              "      <td>-0.818267</td>\n",
              "      <td>-0.002415</td>\n",
              "      <td>0.013649</td>\n",
              "      <td>217.00</td>\n",
              "      <td>0</td>\n",
              "    </tr>\n",
              "  </tbody>\n",
              "</table>\n",
              "<p>284807 rows × 31 columns</p>\n",
              "</div>\n",
              "      <button class=\"colab-df-convert\" onclick=\"convertToInteractive('df-296b8bfc-0883-447e-89ed-e8bf2c29283e')\"\n",
              "              title=\"Convert this dataframe to an interactive table.\"\n",
              "              style=\"display:none;\">\n",
              "        \n",
              "  <svg xmlns=\"http://www.w3.org/2000/svg\" height=\"24px\"viewBox=\"0 0 24 24\"\n",
              "       width=\"24px\">\n",
              "    <path d=\"M0 0h24v24H0V0z\" fill=\"none\"/>\n",
              "    <path d=\"M18.56 5.44l.94 2.06.94-2.06 2.06-.94-2.06-.94-.94-2.06-.94 2.06-2.06.94zm-11 1L8.5 8.5l.94-2.06 2.06-.94-2.06-.94L8.5 2.5l-.94 2.06-2.06.94zm10 10l.94 2.06.94-2.06 2.06-.94-2.06-.94-.94-2.06-.94 2.06-2.06.94z\"/><path d=\"M17.41 7.96l-1.37-1.37c-.4-.4-.92-.59-1.43-.59-.52 0-1.04.2-1.43.59L10.3 9.45l-7.72 7.72c-.78.78-.78 2.05 0 2.83L4 21.41c.39.39.9.59 1.41.59.51 0 1.02-.2 1.41-.59l7.78-7.78 2.81-2.81c.8-.78.8-2.07 0-2.86zM5.41 20L4 18.59l7.72-7.72 1.47 1.35L5.41 20z\"/>\n",
              "  </svg>\n",
              "      </button>\n",
              "      \n",
              "  <style>\n",
              "    .colab-df-container {\n",
              "      display:flex;\n",
              "      flex-wrap:wrap;\n",
              "      gap: 12px;\n",
              "    }\n",
              "\n",
              "    .colab-df-convert {\n",
              "      background-color: #E8F0FE;\n",
              "      border: none;\n",
              "      border-radius: 50%;\n",
              "      cursor: pointer;\n",
              "      display: none;\n",
              "      fill: #1967D2;\n",
              "      height: 32px;\n",
              "      padding: 0 0 0 0;\n",
              "      width: 32px;\n",
              "    }\n",
              "\n",
              "    .colab-df-convert:hover {\n",
              "      background-color: #E2EBFA;\n",
              "      box-shadow: 0px 1px 2px rgba(60, 64, 67, 0.3), 0px 1px 3px 1px rgba(60, 64, 67, 0.15);\n",
              "      fill: #174EA6;\n",
              "    }\n",
              "\n",
              "    [theme=dark] .colab-df-convert {\n",
              "      background-color: #3B4455;\n",
              "      fill: #D2E3FC;\n",
              "    }\n",
              "\n",
              "    [theme=dark] .colab-df-convert:hover {\n",
              "      background-color: #434B5C;\n",
              "      box-shadow: 0px 1px 3px 1px rgba(0, 0, 0, 0.15);\n",
              "      filter: drop-shadow(0px 1px 2px rgba(0, 0, 0, 0.3));\n",
              "      fill: #FFFFFF;\n",
              "    }\n",
              "  </style>\n",
              "\n",
              "      <script>\n",
              "        const buttonEl =\n",
              "          document.querySelector('#df-296b8bfc-0883-447e-89ed-e8bf2c29283e button.colab-df-convert');\n",
              "        buttonEl.style.display =\n",
              "          google.colab.kernel.accessAllowed ? 'block' : 'none';\n",
              "\n",
              "        async function convertToInteractive(key) {\n",
              "          const element = document.querySelector('#df-296b8bfc-0883-447e-89ed-e8bf2c29283e');\n",
              "          const dataTable =\n",
              "            await google.colab.kernel.invokeFunction('convertToInteractive',\n",
              "                                                     [key], {});\n",
              "          if (!dataTable) return;\n",
              "\n",
              "          const docLinkHtml = 'Like what you see? Visit the ' +\n",
              "            '<a target=\"_blank\" href=https://colab.research.google.com/notebooks/data_table.ipynb>data table notebook</a>'\n",
              "            + ' to learn more about interactive tables.';\n",
              "          element.innerHTML = '';\n",
              "          dataTable['output_type'] = 'display_data';\n",
              "          await google.colab.output.renderOutput(dataTable, element);\n",
              "          const docLink = document.createElement('div');\n",
              "          docLink.innerHTML = docLinkHtml;\n",
              "          element.appendChild(docLink);\n",
              "        }\n",
              "      </script>\n",
              "    </div>\n",
              "  </div>\n",
              "  "
            ]
          },
          "metadata": {},
          "execution_count": 4
        }
      ]
    },
    {
      "cell_type": "markdown",
      "metadata": {
        "id": "d2mHboVa1KIJ"
      },
      "source": [
        "## Análisis preliminar"
      ]
    },
    {
      "cell_type": "code",
      "metadata": {
        "colab": {
          "base_uri": "https://localhost:8080/"
        },
        "id": "uRURZ4c01KIK",
        "outputId": "abf73a2e-0188-49e8-a96e-369af3b85f4c"
      },
      "source": [
        "print(inputData.shape[0],'transacciones.')"
      ],
      "execution_count": 5,
      "outputs": [
        {
          "output_type": "stream",
          "name": "stdout",
          "text": [
            "284807 transacciones.\n"
          ]
        }
      ]
    },
    {
      "cell_type": "code",
      "metadata": {
        "colab": {
          "base_uri": "https://localhost:8080/"
        },
        "id": "8JXLbpwi1KIM",
        "outputId": "5bd81f41-9ae5-476c-ccdf-d6aa0c72f9ca"
      },
      "source": [
        "print(inputData.shape[1],'variables.')"
      ],
      "execution_count": 6,
      "outputs": [
        {
          "output_type": "stream",
          "name": "stdout",
          "text": [
            "31 variables.\n"
          ]
        }
      ]
    },
    {
      "cell_type": "markdown",
      "metadata": {
        "id": "mM3fNG_61KIM"
      },
      "source": [
        "Llama la atención que el conjunto de datos es bastante opaco. De sus 31 variables, solo 3 son verdaderamente identificables, estando el resto probablemente transformadas. Aunque no es estrictamente necesario que sepamos con exactitud qué variables manejamos, en general, cuanto mejor conozcamos nuestra población muestral, más capacitados estaremos para identificar variables o factores de confusión e información superflua (que pese a no ser necesaria sí puede introducir sesgos).\n",
        "\n",
        "Pongamos que, hipotéticamente, la variable V13 corresponde a la transformación del parámetro \"color de la tarjeta de crédito con la que se realizó la transacción\". Pongamos que, por pura casualidad, durante los dos días recogidos en la muestra, se realizaron muchísimas más transacciones con tarjetas de crédito azules, y que todas esas transacciones fueran genuinas/válidas. Si no eliminamos esta variable, nuestro modelo podría aprender que las operaciones realizadas con una tarjeta de color azul tienen una alta probabilidad de ser genuinas. Esta información es invisible a cualquier modelo estadístico que utilicemos, e introduce un sesgo que restará capacidad predictiva al modelo una vez se use en datos diferentes del training set.\n",
        "\n",
        "Volviendo al dataset, entre las 3 varibles que sí podemos identificar tenemos: el tiempo (en segundos), la cantidad de dinero que se maneja en la transacción, y la clase de la misma. Es esta última variable, la única de carácter binario, la que nos informa acerca de si cada transacción es fraudulenta (class = 1) o genuina (class = 0). Vamos pues a comprobar cuántas operaciones fraudulentas se detectaron y a qué porcentaje del total corresponden, ya que esto será determinante para elegir el camino a seguir:"
      ]
    },
    {
      "cell_type": "code",
      "metadata": {
        "colab": {
          "base_uri": "https://localhost:8080/"
        },
        "id": "OLF8iLSk1KIN",
        "outputId": "ae79a8e6-655b-4fb1-f412-75560e59b142"
      },
      "source": [
        "fraudTransactions = inputData.loc[inputData.Class == 1, 'Class'].count()\n",
        "genTransactions = inputData.loc[inputData.Class == 0, 'Class'].count()\n",
        "fraudPercentage = fraudTransactions/(fraudTransactions + genTransactions)*100\n",
        "print('Hay un total de', fraudTransactions, 'transacciones fraudulentas, que corresponden a un', round(fraudPercentage, 4),'% del total.')"
      ],
      "execution_count": 7,
      "outputs": [
        {
          "output_type": "stream",
          "name": "stdout",
          "text": [
            "Hay un total de 492 transacciones fraudulentas, que corresponden a un 0.1727 % del total.\n"
          ]
        }
      ]
    },
    {
      "cell_type": "markdown",
      "metadata": {
        "id": "T8oeFFry1KIO"
      },
      "source": [
        "Podemos comprobar que de las 280807 transacciones que tenemos en el dataset, solo 492 son en realidad fraudulentas. Queremos entrenar un clasificador que prediga qué operaciones son fraudulentas pero solo tenemos un 0,17% de casos positivos en nuesto universo muestral, mucho menos del 1%. Tenemos una población profundamente desequilibrada, algo que queda todavía más claro si representamos esta distribución:"
      ]
    },
    {
      "cell_type": "code",
      "metadata": {
        "colab": {
          "base_uri": "https://localhost:8080/",
          "height": 295
        },
        "id": "l_V6w87S1KIO",
        "outputId": "7b054954-eb0a-4bbe-dfd3-db55fd91ef85"
      },
      "source": [
        "transAmount = pd.value_counts(inputData['Class'], sort = True)\n",
        "transAmount.plot(kind = 'bar', rot = 0)\n",
        "plt.title(\"Distribución de los datos\")\n",
        "plt.xticks(range(2), ['Genuinas', 'Fraudulentas'])\n",
        "plt.xlabel(\"Transacciones\")\n",
        "plt.ylabel(\"Frecuencia\")\n",
        "plt.show()"
      ],
      "execution_count": 8,
      "outputs": [
        {
          "output_type": "display_data",
          "data": {
            "text/plain": [
              "<Figure size 432x288 with 1 Axes>"
            ],
            "image/png": "[encoded data removed]"
          },
          "metadata": {
            "needs_background": "light"
          }
        }
      ]
    },
    {
      "cell_type": "markdown",
      "metadata": {
        "id": "XVcvXyNW1KIP"
      },
      "source": [
        "Tenemos una cantidad de casos positivos absurdamente pequeña en relación al tamaño muestral.\n",
        "\n",
        "Antes de tomar más decisiones, comprobemos si alguna de las variables es función de otras. Es decir, si existe correlación entre ellas. Vamos con esto:"
      ]
    },
    {
      "cell_type": "code",
      "metadata": {
        "id": "y0GtRBhP1KIP",
        "outputId": "559c4ce2-c750-478d-d5e8-490f5141924b",
        "colab": {
          "base_uri": "https://localhost:8080/",
          "height": 286
        }
      },
      "source": [
        "sb.heatmap(inputData.corr(), vmin=-1)\n",
        "plt.show()"
      ],
      "execution_count": 9,
      "outputs": [
        {
          "output_type": "display_data",
          "data": {
            "text/plain": [
              "<Figure size 432x288 with 2 Axes>"
            ],
            "image/png": "[encoded data removed]"
          },
          "metadata": {
            "needs_background": "light"
          }
        }
      ]
    },
    {
      "cell_type": "markdown",
      "metadata": {
        "id": "_TbDewu81KIP"
      },
      "source": [
        "En el heatmap podemos ver que las variables cuya naturaleza no conocemos (las Vs) no tienen correlación entre sí:  no podemos predecir el valor de cualquiera de ellas en función del valor de las demás. Por tanto, no podemos eliminar ninguna del modelo en esta fase.\n",
        "\n",
        "Sin embargo, en el caso de Time y Amount (que no aparece etiquetada en el heatmap, pero quedaría inmediatamente a la izquierda de Class), sí que observamos una ligera correlación con algunas de las variables V. Esto es especialmente evidente para la relación entre Amount y V2 (correlación negativa). El hecho de estar fuertemente correlacionada con V2 y ligeramente con el resto, nos da pie a plantearnos eliminar la variable Amount de nuestro modelo. Probablemente no perderíamos poder de predicción, ya que el peso que pudiera tener queda incluido en V2 y las demás variables. \n",
        "\n",
        "En el caso del Time, la correlación con otras variables es más débil, pero podemos tenerla en cuenta por si algún otro factor nos invita a eliminarla.\n",
        "\n",
        "Vamos a comprobar también la distribución de cada variable individual. Esto es, si siguen una distribución normal o no. Además de ser un paso adicional para entender mejor la muestra, esto puede ayudar a seleccionar un modelo estadístico u otro:"
      ]
    },
    {
      "cell_type": "code",
      "metadata": {
        "colab": {
          "base_uri": "https://localhost:8080/",
          "height": 866
        },
        "id": "fCIbzHdu1KIQ",
        "outputId": "26dc74dd-a6ec-4282-8ddb-4d0147e448cd"
      },
      "source": [
        "# Este import sirve para que no se llene la celda con warnings acerca de que la función que uso, distplot, dejará\n",
        "# de funcionar en próximas versiones de Python\n",
        "import warnings\n",
        "warnings.simplefilter(action='ignore', category=FutureWarning)\n",
        "\n",
        "figures, axes = plt.subplots(10, 3, squeeze = False)\n",
        "for i, ax in enumerate(axes.flatten()):\n",
        "    ax.set_facecolor('xkcd:slate')\n",
        "    ax.set_title(inputData.columns[i])\n",
        "    sb.distplot(inputData.iloc[:, i], ax = ax, fit = norm, color = 'xkcd:violet blue', fit_kws = {'color': 'xkcd:tangerine'})\n",
        "    ax.set_xlabel('')\n",
        "    ax.set_ylabel('')\n",
        "    ax.set_xticklabels('')\n",
        "    ax.set_yticklabels('')\n",
        "figures.set_size_inches(8, 15)\n",
        "plt.show()"
      ],
      "execution_count": 12,
      "outputs": [
        {
          "output_type": "display_data",
          "data": {
            "text/plain": [
              "<Figure size 576x1080 with 30 Axes>"
            ],
            "image/png": "[encoded data removed]"
          },
          "metadata": {
            "needs_background": "light"
          }
        }
      ]
    },
    {
      "cell_type": "markdown",
      "metadata": {
        "id": "j0UwrN-T1KIQ"
      },
      "source": [
        "En las gráficas se pueden observar, en morado, la distribución de cada variable, y en naranja, la distribución normal real. Podemos comprobar que todas las variables menos Time siguen una distribución normal, aunque con algunos valores outlier. \n",
        "\n",
        "Esta observación haría posible usar un modelo gaussiano multivariante si eliminamos la variable tiempo del modelo. Un modelo gaussiano, como su nombre indica, trabaja sobre poblaciones/variables normales. \n",
        "\n",
        "Ya habíamos visto que el tiempo podría ser un candidato a quedarse fuera del modelo por estar ligeramente correlacionado con otras variables que no podemos eliminar. "
      ]
    },
    {
      "cell_type": "markdown",
      "metadata": {
        "id": "4t1pPtV91KIQ"
      },
      "source": [
        "## Preprocesamiento de los datos"
      ]
    },
    {
      "cell_type": "markdown",
      "metadata": {
        "id": "62fGfEWU1KIR"
      },
      "source": [
        "Antes de construir el modelo vamos a adecuar un poco los datos para optimizar los resultados. Lo primero que conviene hacer es comprobar si faltan datos en alguna celda, ya que, de ser así, habría que decidir cómo lidiar con los missing data (normalmente la elección es entre eliminar sus filas/columnas o interpolar esos datos)."
      ]
    },
    {
      "cell_type": "code",
      "metadata": {
        "colab": {
          "base_uri": "https://localhost:8080/"
        },
        "id": "_1iWKp641KIR",
        "outputId": "00dd6497-aef9-4193-f7fc-c512e8da3f52"
      },
      "source": [
        "print(f'¿Hay alguna celda sin datos? {inputData.isnull().values.any()}.')"
      ],
      "execution_count": 15,
      "outputs": [
        {
          "output_type": "stream",
          "name": "stdout",
          "text": [
            "¿Hay alguna celda sin datos? False.\n"
          ]
        }
      ]
    },
    {
      "cell_type": "markdown",
      "metadata": {
        "id": "rK3tkZsT1KIR"
      },
      "source": [
        "Lo más normal es que en un dataframe tan grande fallen algunos datos, pero, en este caso no tenemos que preocuparnos por rellenar/eliminar celdas vacías.\n",
        "\n",
        "A continuación eliminamos las variables citadas Time y Amount. "
      ]
    },
    {
      "cell_type": "markdown",
      "metadata": {
        "id": "FuUjfJDo1KIS"
      },
      "source": [
        "Finalmente, dividimos la muestra en dos subsets.\n",
        "\n",
        "Dado el dsequilbrio de la muestra, podríamos usar undersampling para mejorar nuestro modelo. Vamos a trabajar ambas opciones: una \"normal\" sin undersampling y otra con él, para poder comparar los resultados."
      ]
    },
    {
      "cell_type": "code",
      "metadata": {
        "id": "mOyzN2lW1KIS"
      },
      "source": [
        "y = inputData[['Class']]\n",
        "\n",
        "inputData = inputData.drop(['Time', 'Amount', 'Class'], axis = 1)\n",
        "\n",
        "X = inputData.iloc[:]\n",
        "\n",
        "X_train, X_test, y_train, y_test = train_test_split(X, y, test_size = 0.2, random_state = 13)"
      ],
      "execution_count": 16,
      "outputs": []
    },
    {
      "cell_type": "markdown",
      "metadata": {
        "id": "7TI83jxm1KIS"
      },
      "source": [
        "## Construcción del modelo"
      ]
    },
    {
      "cell_type": "markdown",
      "metadata": {
        "id": "3nn4Bu3A1KIS"
      },
      "source": [
        "Vamos a probar un modelo de árbol de decisión, que suele ser muy bueno en problemas de clasificación y no es tan susceptible al overfit como lo sería la regresión logística en estas condicionces."
      ]
    },
    {
      "cell_type": "code",
      "metadata": {
        "id": "M-JCKYGw72i1"
      },
      "source": [
        "dataColumns = inputData.columns\n",
        "X_scaled = MinMaxScaler().fit_transform(X_train)\n",
        "X_train = pd.DataFrame(data = X_scaled, columns = dataColumns)"
      ],
      "execution_count": 17,
      "outputs": []
    },
    {
      "cell_type": "code",
      "metadata": {
        "id": "PGGwWrRa89Ds"
      },
      "source": [
        "dataColumns = inputData.columns\n",
        "X_scaled = MinMaxScaler().fit_transform(X_test)\n",
        "X_test = pd.DataFrame(data = X_scaled, columns = dataColumns)"
      ],
      "execution_count": 18,
      "outputs": []
    },
    {
      "cell_type": "markdown",
      "metadata": {
        "id": "qi1zkpD-1KIT"
      },
      "source": [
        "### Decision tree"
      ]
    },
    {
      "cell_type": "markdown",
      "metadata": {
        "id": "AVb4IzXl1KIT"
      },
      "source": [
        "Definimos el clasificador, le pedimos que construya el modelo con los training sets, y a continuación calculamos su precisión, su matriz de confusión y el reporte por defecto de scikitlearn:"
      ]
    },
    {
      "cell_type": "code",
      "metadata": {
        "colab": {
          "base_uri": "https://localhost:8080/"
        },
        "id": "yJ6BYSuT1KIT",
        "outputId": "d4d5f157-53d8-48ac-e552-121d5c065601"
      },
      "source": [
        "treeClassifier = DecisionTreeClassifier()\n",
        "treeClassifier.fit(X_train, y_train)\n",
        "\n",
        "treeScore = treeClassifier.score(X_test, y_test)\n",
        "treePredict = treeClassifier.predict(X_test)\n",
        "\n",
        "print('La precisión del modelo es de', treeScore,\n",
        "      '. A continuación se presentan su matriz de confusión y algunas estadísticas:\\n', \n",
        "      confusion_matrix(y_test, treePredict), '\\n',classification_report(y_test, treePredict))"
      ],
      "execution_count": 19,
      "outputs": [
        {
          "output_type": "stream",
          "name": "stdout",
          "text": [
            "La precisión del modelo es de 0.9769846564376251 . A continuación se presentan su matriz de confusión y algunas estadísticas:\n",
            " [[55597  1275]\n",
            " [   36    54]] \n",
            "               precision    recall  f1-score   support\n",
            "\n",
            "           0       1.00      0.98      0.99     56872\n",
            "           1       0.04      0.60      0.08        90\n",
            "\n",
            "    accuracy                           0.98     56962\n",
            "   macro avg       0.52      0.79      0.53     56962\n",
            "weighted avg       1.00      0.98      0.99     56962\n",
            "\n"
          ]
        }
      ]
    },
    {
      "cell_type": "code",
      "metadata": {
        "colab": {
          "base_uri": "https://localhost:8080/",
          "height": 279
        },
        "id": "ou4-ki4994ID",
        "outputId": "5047182c-1231-4da3-8fbc-8530b34a2325"
      },
      "source": [
        "plot_confusion_matrix(treeClassifier, X_test, y_test)\n",
        "plt.show()"
      ],
      "execution_count": 20,
      "outputs": [
        {
          "output_type": "display_data",
          "data": {
            "text/plain": [
              "<Figure size 432x288 with 2 Axes>"
            ],
            "image/png": "[encoded data removed]"
          },
          "metadata": {
            "needs_background": "light"
          }
        }
      ]
    },
    {
      "cell_type": "markdown",
      "metadata": {
        "id": "w7rt_1oF1KIT"
      },
      "source": [
        "(Nota aclaratoria: no confundir la precisión porcentual del modelo, calculada con el método score y que en inglés suele llamarse accuracy, con la precisión de la predicción de cada clase, calculada en el classification report, y que en inglés aparece como precision, sin tilde).\n",
        "\n",
        "Bien, aunque pudiera parecer que es un buen modelo debido a su alta precisión porcentual, de más de 99,9%, en realidad esta medida no nos sirve de mucho, ya que está fuertemente influenciada por el desequilibrio muestral. Sí que nos son de más utilidad los valores de precision, recall y f1-score del report inferior, que no son tan buenos como podríamos esperar.\n",
        "\n",
        "Para entenderlos mejor: tener un recall de 0.54 y una precision de 0.01 para la clase 1 que nuestro modelo es bastante malo. La f1-score se calcula con las dos medidas anteriores y como en ambos casos, su valor ideal sería de 1.\n",
        " \n",
        "Nuestro modelo, por tanto, no es nada bueno a pesar de su 99,9% de precisión. Vamoso a probar a usar un modelo de random forest:"
      ]
    },
    {
      "cell_type": "markdown",
      "metadata": {
        "id": "oTQWbOZf1KIU"
      },
      "source": [
        "### Random forest"
      ]
    },
    {
      "cell_type": "markdown",
      "metadata": {
        "id": "w8riiJ4l1KIU"
      },
      "source": [
        "Seguimos una metodología similar a la usada en el modelo anterior. Como única nota, estoy usando un modelo con 40 modelos individuales porque, despueś de hacer varias pruebas, ese me ha parecido el mejor valor. A partir de ahí la mejora era despreciable."
      ]
    },
    {
      "cell_type": "code",
      "metadata": {
        "colab": {
          "base_uri": "https://localhost:8080/"
        },
        "id": "S1VkrdFW1KIU",
        "outputId": "35cb53c6-ebc4-4ebb-8784-353afef7d052"
      },
      "source": [
        "forestClassifier = RandomForestClassifier(n_estimators = 40)\n",
        "forestClassifier.fit(X_train, y_train.values.ravel())\n",
        "\n",
        "forestScore = forestClassifier.score(X_test, y_test)\n",
        "forestPredict = forestClassifier.predict(X_test)\n",
        "\n",
        "print('La precisión del modelo es de', forestScore,\n",
        "      '. A continuación se presentan su matriz de confusión y algunas estadísticas:\\n', \n",
        "      confusion_matrix(y_test, forestPredict), '\\n',classification_report(y_test, forestPredict))"
      ],
      "execution_count": 21,
      "outputs": [
        {
          "output_type": "stream",
          "name": "stdout",
          "text": [
            "La precisión del modelo es de 0.9990519995786665 . A continuación se presentan su matriz de confusión y algunas estadísticas:\n",
            " [[56866     6]\n",
            " [   48    42]] \n",
            "               precision    recall  f1-score   support\n",
            "\n",
            "           0       1.00      1.00      1.00     56872\n",
            "           1       0.88      0.47      0.61        90\n",
            "\n",
            "    accuracy                           1.00     56962\n",
            "   macro avg       0.94      0.73      0.80     56962\n",
            "weighted avg       1.00      1.00      1.00     56962\n",
            "\n"
          ]
        }
      ]
    },
    {
      "cell_type": "markdown",
      "metadata": {
        "id": "oi_38vGN1KIU"
      },
      "source": [
        "El cambio de modelo a uno más complejo (el random forest se construye como un conjunto de varios decision trees) ha mejorado bastante nuestra precisión, que ha pasado de a ser de 0,82, nuestro modelo ya no tiene apenas falsos positivos. Sin embargo el recall sigue sin ser suficiente, aún se nos están escapando el 20% de operaciones fraudulentas, tenemos muchos falsos negativos."
      ]
    },
    {
      "cell_type": "markdown",
      "metadata": {
        "id": "FYHPIWPY1KIU"
      },
      "source": [
        "### Regresión logística"
      ]
    },
    {
      "cell_type": "markdown",
      "metadata": {
        "id": "tfhLIoKJ1KIU"
      },
      "source": [
        "Solo a modo ilustrativo voy a incluir un modelo de regresión logística para comparar:"
      ]
    },
    {
      "cell_type": "code",
      "metadata": {
        "colab": {
          "base_uri": "https://localhost:8080/"
        },
        "id": "wm8W2AGf1KIV",
        "outputId": "e843140a-a4d1-4664-c1a8-700ba977335e"
      },
      "source": [
        "logisticClassifier = linear_model.LogisticRegression(C=1e5, max_iter = 650)\n",
        "logisticClassifier.fit(X_train, y_train.values.ravel())\n",
        "\n",
        "logisticScore = logisticClassifier.score(X_test, y_test)\n",
        "logisticPredict = logisticClassifier.predict(X_test)\n",
        "\n",
        "print('La precisión del modelo es de', logisticScore,\n",
        "      '. A continuación se presentan su matriz de confusión y algunas estadísticas:\\n', \n",
        "      confusion_matrix(y_test, logisticPredict), '\\n',classification_report(y_test, logisticPredict))"
      ],
      "execution_count": 22,
      "outputs": [
        {
          "output_type": "stream",
          "name": "stdout",
          "text": [
            "La precisión del modelo es de 0.9987008883115059 . A continuación se presentan su matriz de confusión y algunas estadísticas:\n",
            " [[56871     1]\n",
            " [   73    17]] \n",
            "               precision    recall  f1-score   support\n",
            "\n",
            "           0       1.00      1.00      1.00     56872\n",
            "           1       0.94      0.19      0.31        90\n",
            "\n",
            "    accuracy                           1.00     56962\n",
            "   macro avg       0.97      0.59      0.66     56962\n",
            "weighted avg       1.00      1.00      1.00     56962\n",
            "\n"
          ]
        }
      ]
    },
    {
      "cell_type": "markdown",
      "metadata": {
        "id": "iqlxHIEY1KIV"
      },
      "source": [
        "### XGBoost"
      ]
    },
    {
      "cell_type": "markdown",
      "metadata": {
        "id": "e7OI-9u81KIV"
      },
      "source": [
        "La base de este modelo es que en lugar de funcionar con varios modelos indiviuales independientes, como un random forest, en el que cada submodelo toma una decisión por separado y luego se usa la decisión tomada más frecuentemente, XGBoost lo que hace es construir cada modelo sobre el anterior, reduciendo el error del mismo. Vamos a darle una oportunidad de detectar fraude."
      ]
    },
    {
      "cell_type": "code",
      "metadata": {
        "colab": {
          "base_uri": "https://localhost:8080/"
        },
        "id": "2zfw9bY_1KIV",
        "outputId": "661b8eec-23e5-4649-c0df-e933f19375dd"
      },
      "source": [
        "boostClassifier = XGBClassifier()\n",
        "boostClassifier.fit(X_train, y_train.values.ravel())\n",
        "\n",
        "boostScore = boostClassifier.score(X_test, y_test)\n",
        "boostPredict = boostClassifier.predict(X_test)\n",
        "\n",
        "print('La precisión del modelo es de', boostScore,\n",
        "      '. A continuación se presentan su matriz de confusión y algunas estadísticas:\\n', \n",
        "      confusion_matrix(y_test, boostPredict), '\\n',classification_report(y_test, boostPredict))"
      ],
      "execution_count": 23,
      "outputs": [
        {
          "output_type": "stream",
          "name": "stdout",
          "text": [
            "La precisión del modelo es de 0.9990519995786665 . A continuación se presentan su matriz de confusión y algunas estadísticas:\n",
            " [[56865     7]\n",
            " [   47    43]] \n",
            "               precision    recall  f1-score   support\n",
            "\n",
            "           0       1.00      1.00      1.00     56872\n",
            "           1       0.86      0.48      0.61        90\n",
            "\n",
            "    accuracy                           1.00     56962\n",
            "   macro avg       0.93      0.74      0.81     56962\n",
            "weighted avg       1.00      1.00      1.00     56962\n",
            "\n"
          ]
        }
      ]
    },
    {
      "cell_type": "markdown",
      "metadata": {
        "id": "ifhExEKh1KIV"
      },
      "source": [
        "## Undersampling"
      ]
    },
    {
      "cell_type": "markdown",
      "metadata": {
        "id": "bRsxSbEK1KIW"
      },
      "source": [
        "A continuación, guardo en un array los índices de las transacciones fraudulentas, y en otro, la misma cantidad de índices de transacciones genuinas elegidos aleatoriamente de entre toda la muestra. Luego concateno ambos arrays y genero un dataframe a partir de la población original que contenga solo las subpoblaciones escogidas en esos arrays. Finalmente, le aplico a este nuevo dataframe las mismas operaciones que en el preprocesamiento de los datos originales:"
      ]
    },
    {
      "cell_type": "code",
      "metadata": {
        "id": "iIfuAe7O1KIW"
      },
      "source": [
        "inputData = pd.read_csv('creditcard.csv')\n",
        "fraudIndexes = np.array(inputData[inputData['Class'] == 1].index)\n",
        "genuineIndexes = np.array(np.random.choice(inputData[inputData['Class'] == 0].index, 492, replace = False))\n",
        "undersamplingIndexes = np.concatenate([fraudIndexes, genuineIndexes])\n",
        "undersampledData = inputData.iloc[undersamplingIndexes, :]"
      ],
      "execution_count": 24,
      "outputs": []
    },
    {
      "cell_type": "markdown",
      "metadata": {
        "id": "u2vQLAwX1KIW"
      },
      "source": [
        "Una vez generado y procesado el nuevo dataset, lo separo como anteriormente en dos subsets, entrenamiento y validación:"
      ]
    },
    {
      "cell_type": "code",
      "metadata": {
        "id": "X5XASuNO1KIW"
      },
      "source": [
        "underY = undersampledData[['Class']]\n",
        "transUnderData = undersampledData.drop(['Time', 'Amount', 'Class'], axis = 1)\n",
        "underX = transUnderData.iloc[:]\n",
        "\n",
        "underX_training, underX_validation, underY_training, underY_validation = train_test_split(underX, underY, test_size = 0.2, random_state = 13)"
      ],
      "execution_count": 25,
      "outputs": []
    },
    {
      "cell_type": "code",
      "metadata": {
        "id": "tIWLZ5aOEFPi"
      },
      "source": [
        "dataColumns = transUnderData.columns\n",
        "X_scaled = MinMaxScaler().fit_transform(underX_training)\n",
        "underX_training = pd.DataFrame(data = X_scaled, columns = dataColumns)"
      ],
      "execution_count": 26,
      "outputs": []
    },
    {
      "cell_type": "code",
      "metadata": {
        "id": "1Bh5X7W3EFPi"
      },
      "source": [
        "dataColumns = transUnderData.columns\n",
        "X_scaled = MinMaxScaler().fit_transform(underX_validation)\n",
        "underX_validation = pd.DataFrame(data = X_scaled, columns = dataColumns)"
      ],
      "execution_count": 27,
      "outputs": []
    },
    {
      "cell_type": "markdown",
      "metadata": {
        "id": "HbZKP8HW1KIW"
      },
      "source": [
        "### Random forest + undersampling"
      ]
    },
    {
      "cell_type": "markdown",
      "metadata": {
        "id": "kW8hXgRf1KIW"
      },
      "source": [
        "Volvemos a generar un modelo de random forest con los nuevos datos:"
      ]
    },
    {
      "cell_type": "code",
      "metadata": {
        "colab": {
          "base_uri": "https://localhost:8080/"
        },
        "id": "139x0Ghu1KIW",
        "outputId": "e4e0ce4b-d7b1-4dcb-8cd7-a9437bb894fb"
      },
      "source": [
        "underForestClassifier = RandomForestClassifier(n_estimators = 40)\n",
        "underForestClassifier.fit(underX_training, underY_training.values.ravel())\n",
        "\n",
        "underForestScore = underForestClassifier.score(underX_validation, underY_validation)\n",
        "underForestPredict = underForestClassifier.predict(underX_validation)\n",
        "\n",
        "print('La precisión del modelo es de', underForestScore,\n",
        "      '. A continuación se presentan su matriz de confusión y algunas estadísticas:\\n', \n",
        "      confusion_matrix(underY_validation, underForestPredict), '\\n',classification_report(underY_validation, underForestPredict))"
      ],
      "execution_count": 28,
      "outputs": [
        {
          "output_type": "stream",
          "name": "stdout",
          "text": [
            "La precisión del modelo es de 0.9137055837563451 . A continuación se presentan su matriz de confusión y algunas estadísticas:\n",
            " [[96 10]\n",
            " [ 7 84]] \n",
            "               precision    recall  f1-score   support\n",
            "\n",
            "           0       0.93      0.91      0.92       106\n",
            "           1       0.89      0.92      0.91        91\n",
            "\n",
            "    accuracy                           0.91       197\n",
            "   macro avg       0.91      0.91      0.91       197\n",
            "weighted avg       0.91      0.91      0.91       197\n",
            "\n"
          ]
        }
      ]
    },
    {
      "cell_type": "code",
      "metadata": {
        "colab": {
          "base_uri": "https://localhost:8080/"
        },
        "id": "8LVR3rFeE1vz",
        "outputId": "979fdaa9-0203-46c6-ef4d-c5c0cafa7321"
      },
      "source": [
        "boostClassifier = XGBClassifier()\n",
        "boostClassifier.fit(underX_training, underY_training.values.ravel())\n",
        "\n",
        "boostScore = boostClassifier.score(underX_validation, underY_validation)\n",
        "boostPredict = boostClassifier.predict(underX_validation)\n",
        "\n",
        "print('La precisión del modelo es de', boostScore,\n",
        "      '. A continuación se presentan su matriz de confusión y algunas estadísticas:\\n', \n",
        "      confusion_matrix(underY_validation, boostPredict), '\\n',classification_report(underY_validation, boostPredict))"
      ],
      "execution_count": 29,
      "outputs": [
        {
          "output_type": "stream",
          "name": "stdout",
          "text": [
            "La precisión del modelo es de 0.9289340101522843 . A continuación se presentan su matriz de confusión y algunas estadísticas:\n",
            " [[100   6]\n",
            " [  8  83]] \n",
            "               precision    recall  f1-score   support\n",
            "\n",
            "           0       0.93      0.94      0.93       106\n",
            "           1       0.93      0.91      0.92        91\n",
            "\n",
            "    accuracy                           0.93       197\n",
            "   macro avg       0.93      0.93      0.93       197\n",
            "weighted avg       0.93      0.93      0.93       197\n",
            "\n"
          ]
        }
      ]
    }
  ]
}